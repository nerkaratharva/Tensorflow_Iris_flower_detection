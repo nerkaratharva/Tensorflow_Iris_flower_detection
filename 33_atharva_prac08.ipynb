{
 "cells": [
  {
   "cell_type": "code",
   "execution_count": 7,
   "id": "acb90a59",
   "metadata": {},
   "outputs": [],
   "source": [
    "import pandas as pd\n",
    "import numpy as np\n",
    "import os\n",
    "\n",
    "# Plotting libraries\n",
    "import matplotlib.pyplot as plt\n",
    "\n",
    "\n",
    "# SKLearn libraries\n",
    "from sklearn.preprocessing import LabelEncoder\n",
    "from sklearn.model_selection import train_test_split\n",
    "\n",
    "# Tensorflow libraries\n",
    "import tensorflow as tf\n",
    "from tensorflow import keras\n",
    "from tensorflow.keras.models import Sequential"
   ]
  },
  {
   "cell_type": "code",
   "execution_count": 8,
   "id": "fbe9f176",
   "metadata": {},
   "outputs": [],
   "source": [
    "FILE_PATH = 'IRIS.csv'\n",
    "\n",
    "iris_data = pd.read_csv(FILE_PATH, header=0)"
   ]
  },
  {
   "cell_type": "code",
   "execution_count": 9,
   "id": "473b2ffc",
   "metadata": {},
   "outputs": [
    {
     "name": "stdout",
     "output_type": "stream",
     "text": [
      "<class 'pandas.core.frame.DataFrame'>\n",
      "RangeIndex: 150 entries, 0 to 149\n",
      "Data columns (total 5 columns):\n",
      " #   Column        Non-Null Count  Dtype  \n",
      "---  ------        --------------  -----  \n",
      " 0   sepal_length  150 non-null    float64\n",
      " 1   sepal_width   150 non-null    float64\n",
      " 2   petal_length  150 non-null    float64\n",
      " 3   petal_width   150 non-null    float64\n",
      " 4   species       150 non-null    object \n",
      "dtypes: float64(4), object(1)\n",
      "memory usage: 6.0+ KB\n",
      "================================================================================\n"
     ]
    }
   ],
   "source": [
    "iris_data.info()\n",
    "print(\"==\"*40)"
   ]
  },
  {
   "cell_type": "code",
   "execution_count": 10,
   "id": "f240eb27",
   "metadata": {},
   "outputs": [
    {
     "data": {
      "text/html": [
       "<div>\n",
       "<style scoped>\n",
       "    .dataframe tbody tr th:only-of-type {\n",
       "        vertical-align: middle;\n",
       "    }\n",
       "\n",
       "    .dataframe tbody tr th {\n",
       "        vertical-align: top;\n",
       "    }\n",
       "\n",
       "    .dataframe thead th {\n",
       "        text-align: right;\n",
       "    }\n",
       "</style>\n",
       "<table border=\"1\" class=\"dataframe\">\n",
       "  <thead>\n",
       "    <tr style=\"text-align: right;\">\n",
       "      <th></th>\n",
       "      <th>sepal_length</th>\n",
       "      <th>sepal_width</th>\n",
       "      <th>petal_length</th>\n",
       "      <th>petal_width</th>\n",
       "      <th>species</th>\n",
       "    </tr>\n",
       "  </thead>\n",
       "  <tbody>\n",
       "    <tr>\n",
       "      <th>0</th>\n",
       "      <td>5.1</td>\n",
       "      <td>3.5</td>\n",
       "      <td>1.4</td>\n",
       "      <td>0.2</td>\n",
       "      <td>Iris-setosa</td>\n",
       "    </tr>\n",
       "    <tr>\n",
       "      <th>1</th>\n",
       "      <td>4.9</td>\n",
       "      <td>3.0</td>\n",
       "      <td>1.4</td>\n",
       "      <td>0.2</td>\n",
       "      <td>Iris-setosa</td>\n",
       "    </tr>\n",
       "    <tr>\n",
       "      <th>2</th>\n",
       "      <td>4.7</td>\n",
       "      <td>3.2</td>\n",
       "      <td>1.3</td>\n",
       "      <td>0.2</td>\n",
       "      <td>Iris-setosa</td>\n",
       "    </tr>\n",
       "    <tr>\n",
       "      <th>3</th>\n",
       "      <td>4.6</td>\n",
       "      <td>3.1</td>\n",
       "      <td>1.5</td>\n",
       "      <td>0.2</td>\n",
       "      <td>Iris-setosa</td>\n",
       "    </tr>\n",
       "    <tr>\n",
       "      <th>4</th>\n",
       "      <td>5.0</td>\n",
       "      <td>3.6</td>\n",
       "      <td>1.4</td>\n",
       "      <td>0.2</td>\n",
       "      <td>Iris-setosa</td>\n",
       "    </tr>\n",
       "    <tr>\n",
       "      <th>5</th>\n",
       "      <td>5.4</td>\n",
       "      <td>3.9</td>\n",
       "      <td>1.7</td>\n",
       "      <td>0.4</td>\n",
       "      <td>Iris-setosa</td>\n",
       "    </tr>\n",
       "    <tr>\n",
       "      <th>6</th>\n",
       "      <td>4.6</td>\n",
       "      <td>3.4</td>\n",
       "      <td>1.4</td>\n",
       "      <td>0.3</td>\n",
       "      <td>Iris-setosa</td>\n",
       "    </tr>\n",
       "    <tr>\n",
       "      <th>7</th>\n",
       "      <td>5.0</td>\n",
       "      <td>3.4</td>\n",
       "      <td>1.5</td>\n",
       "      <td>0.2</td>\n",
       "      <td>Iris-setosa</td>\n",
       "    </tr>\n",
       "    <tr>\n",
       "      <th>8</th>\n",
       "      <td>4.4</td>\n",
       "      <td>2.9</td>\n",
       "      <td>1.4</td>\n",
       "      <td>0.2</td>\n",
       "      <td>Iris-setosa</td>\n",
       "    </tr>\n",
       "    <tr>\n",
       "      <th>9</th>\n",
       "      <td>4.9</td>\n",
       "      <td>3.1</td>\n",
       "      <td>1.5</td>\n",
       "      <td>0.1</td>\n",
       "      <td>Iris-setosa</td>\n",
       "    </tr>\n",
       "  </tbody>\n",
       "</table>\n",
       "</div>"
      ],
      "text/plain": [
       "   sepal_length  sepal_width  petal_length  petal_width      species\n",
       "0           5.1          3.5           1.4          0.2  Iris-setosa\n",
       "1           4.9          3.0           1.4          0.2  Iris-setosa\n",
       "2           4.7          3.2           1.3          0.2  Iris-setosa\n",
       "3           4.6          3.1           1.5          0.2  Iris-setosa\n",
       "4           5.0          3.6           1.4          0.2  Iris-setosa\n",
       "5           5.4          3.9           1.7          0.4  Iris-setosa\n",
       "6           4.6          3.4           1.4          0.3  Iris-setosa\n",
       "7           5.0          3.4           1.5          0.2  Iris-setosa\n",
       "8           4.4          2.9           1.4          0.2  Iris-setosa\n",
       "9           4.9          3.1           1.5          0.1  Iris-setosa"
      ]
     },
     "execution_count": 10,
     "metadata": {},
     "output_type": "execute_result"
    }
   ],
   "source": [
    "iris_data.head(10)"
   ]
  },
  {
   "cell_type": "code",
   "execution_count": 11,
   "id": "a142f336",
   "metadata": {},
   "outputs": [],
   "source": [
    "X = iris_data.loc[:, iris_data.columns != 'species']\n",
    "y = iris_data.loc[:, ['species']]"
   ]
  },
  {
   "cell_type": "code",
   "execution_count": 12,
   "id": "2f7efbd9",
   "metadata": {},
   "outputs": [
    {
     "name": "stderr",
     "output_type": "stream",
     "text": [
      "c:\\Python310\\lib\\site-packages\\sklearn\\preprocessing\\_label.py:116: DataConversionWarning: A column-vector y was passed when a 1d array was expected. Please change the shape of y to (n_samples, ), for example using ravel().\n",
      "  y = column_or_1d(y, warn=True)\n"
     ]
    }
   ],
   "source": [
    "y_enc = LabelEncoder().fit_transform(y)\n",
    "# Converting the label into a matrix form\n",
    "y_label = tf.keras.utils.to_categorical(y_enc)"
   ]
  },
  {
   "cell_type": "code",
   "execution_count": 13,
   "id": "139920c0",
   "metadata": {},
   "outputs": [],
   "source": [
    "X_train, X_test, y_train, y_test = train_test_split(X, y_label, test_size=0.3)"
   ]
  },
  {
   "cell_type": "code",
   "execution_count": 14,
   "id": "4fac079e",
   "metadata": {},
   "outputs": [
    {
     "name": "stdout",
     "output_type": "stream",
     "text": [
      "Train shape : (105, 4), Y Train : (105, 3)\n",
      "(4,)\n"
     ]
    }
   ],
   "source": [
    "print(f\"Train shape : {X_train.shape}, Y Train : {y_train.shape}\")\n",
    "print(X_train.shape[1:])"
   ]
  },
  {
   "cell_type": "code",
   "execution_count": 15,
   "id": "ba208e52",
   "metadata": {},
   "outputs": [],
   "source": [
    "def get_model():\n",
    "    model = Sequential([\n",
    "        keras.layers.Input(shape=X_train.shape[1:]),\n",
    "        keras.layers.Dense(1000, activation='relu'),\n",
    "        keras.layers.Dense(500, activation='relu',),\n",
    "        keras.layers.Dense(300, activation='relu'),\n",
    "        keras.layers.Dropout(0.2),\n",
    "        keras.layers.Dense(3, activation='softmax')\n",
    "    ])\n",
    "    \n",
    "    return model"
   ]
  },
  {
   "cell_type": "code",
   "execution_count": 16,
   "id": "61c45063",
   "metadata": {},
   "outputs": [],
   "source": [
    "model = get_model()\n",
    "\n",
    "# Compile the model\n",
    "model.compile(optimizer='adam', \n",
    "              loss=keras.losses.CategoricalCrossentropy(),\n",
    "             metrics=['accuracy'])"
   ]
  },
  {
   "cell_type": "code",
   "execution_count": 17,
   "id": "a8999c8e",
   "metadata": {},
   "outputs": [
    {
     "name": "stdout",
     "output_type": "stream",
     "text": [
      "Model: \"sequential\"\n",
      "_________________________________________________________________\n",
      " Layer (type)                Output Shape              Param #   \n",
      "=================================================================\n",
      " dense (Dense)               (None, 1000)              5000      \n",
      "                                                                 \n",
      " dense_1 (Dense)             (None, 500)               500500    \n",
      "                                                                 \n",
      " dense_2 (Dense)             (None, 300)               150300    \n",
      "                                                                 \n",
      " dropout (Dropout)           (None, 300)               0         \n",
      "                                                                 \n",
      " dense_3 (Dense)             (None, 3)                 903       \n",
      "                                                                 \n",
      "=================================================================\n",
      "Total params: 656,703\n",
      "Trainable params: 656,703\n",
      "Non-trainable params: 0\n",
      "_________________________________________________________________\n"
     ]
    }
   ],
   "source": [
    "model.summary()"
   ]
  },
  {
   "cell_type": "code",
   "execution_count": 18,
   "id": "7ac1bff1",
   "metadata": {},
   "outputs": [
    {
     "name": "stdout",
     "output_type": "stream",
     "text": [
      "Epoch 1/30\n",
      "4/4 [==============================] - 1s 106ms/step - loss: 1.0696 - accuracy: 0.4381 - val_loss: 0.7159 - val_accuracy: 0.6444\n",
      "Epoch 2/30\n",
      "4/4 [==============================] - 0s 31ms/step - loss: 0.7355 - accuracy: 0.6000 - val_loss: 0.4987 - val_accuracy: 0.9778\n",
      "Epoch 3/30\n",
      "4/4 [==============================] - 0s 30ms/step - loss: 0.5103 - accuracy: 0.7333 - val_loss: 0.4463 - val_accuracy: 0.6444\n",
      "Epoch 4/30\n",
      "4/4 [==============================] - 0s 24ms/step - loss: 0.4197 - accuracy: 0.8190 - val_loss: 0.3304 - val_accuracy: 0.8889\n",
      "Epoch 5/30\n",
      "4/4 [==============================] - 0s 24ms/step - loss: 0.3255 - accuracy: 0.9238 - val_loss: 0.2977 - val_accuracy: 0.8889\n",
      "Epoch 6/30\n",
      "4/4 [==============================] - 0s 23ms/step - loss: 0.2880 - accuracy: 0.8952 - val_loss: 0.2051 - val_accuracy: 0.9778\n",
      "Epoch 7/30\n",
      "4/4 [==============================] - 0s 23ms/step - loss: 0.1959 - accuracy: 0.9714 - val_loss: 0.1689 - val_accuracy: 0.9556\n",
      "Epoch 8/30\n",
      "4/4 [==============================] - 0s 25ms/step - loss: 0.1822 - accuracy: 0.9333 - val_loss: 0.1512 - val_accuracy: 0.9333\n",
      "Epoch 9/30\n",
      "4/4 [==============================] - 0s 30ms/step - loss: 0.1496 - accuracy: 0.9524 - val_loss: 0.1319 - val_accuracy: 0.9333\n",
      "Epoch 10/30\n",
      "4/4 [==============================] - 0s 28ms/step - loss: 0.1833 - accuracy: 0.9238 - val_loss: 0.1734 - val_accuracy: 0.9333\n",
      "Epoch 11/30\n",
      "4/4 [==============================] - 0s 24ms/step - loss: 0.1446 - accuracy: 0.9619 - val_loss: 0.2233 - val_accuracy: 0.8889\n",
      "Epoch 12/30\n",
      "4/4 [==============================] - 0s 24ms/step - loss: 0.1625 - accuracy: 0.9429 - val_loss: 0.1291 - val_accuracy: 0.9333\n",
      "Epoch 13/30\n",
      "4/4 [==============================] - 0s 30ms/step - loss: 0.0943 - accuracy: 0.9714 - val_loss: 0.1823 - val_accuracy: 0.8889\n",
      "Epoch 14/30\n",
      "4/4 [==============================] - 0s 30ms/step - loss: 0.1941 - accuracy: 0.9143 - val_loss: 0.1572 - val_accuracy: 0.9333\n",
      "Epoch 15/30\n",
      "4/4 [==============================] - 0s 27ms/step - loss: 0.1423 - accuracy: 0.9619 - val_loss: 0.1209 - val_accuracy: 0.9333\n",
      "Epoch 16/30\n",
      "4/4 [==============================] - 0s 23ms/step - loss: 0.1298 - accuracy: 0.9333 - val_loss: 0.0765 - val_accuracy: 1.0000\n",
      "Epoch 17/30\n",
      "4/4 [==============================] - 0s 24ms/step - loss: 0.0912 - accuracy: 0.9714 - val_loss: 0.0761 - val_accuracy: 1.0000\n",
      "Epoch 18/30\n",
      "4/4 [==============================] - 0s 23ms/step - loss: 0.1004 - accuracy: 0.9524 - val_loss: 0.0742 - val_accuracy: 1.0000\n",
      "Epoch 19/30\n",
      "4/4 [==============================] - 0s 27ms/step - loss: 0.0936 - accuracy: 0.9619 - val_loss: 0.0844 - val_accuracy: 0.9556\n",
      "Epoch 20/30\n",
      "4/4 [==============================] - 0s 38ms/step - loss: 0.1473 - accuracy: 0.9619 - val_loss: 0.0792 - val_accuracy: 0.9778\n",
      "Epoch 21/30\n",
      "4/4 [==============================] - 0s 25ms/step - loss: 0.1227 - accuracy: 0.9429 - val_loss: 0.0676 - val_accuracy: 1.0000\n",
      "Epoch 22/30\n",
      "4/4 [==============================] - 0s 27ms/step - loss: 0.0725 - accuracy: 0.9810 - val_loss: 0.0714 - val_accuracy: 1.0000\n",
      "Epoch 23/30\n",
      "4/4 [==============================] - 0s 30ms/step - loss: 0.0787 - accuracy: 0.9619 - val_loss: 0.0656 - val_accuracy: 0.9778\n",
      "Epoch 24/30\n",
      "4/4 [==============================] - 0s 32ms/step - loss: 0.1008 - accuracy: 0.9524 - val_loss: 0.0653 - val_accuracy: 1.0000\n",
      "Epoch 25/30\n",
      "4/4 [==============================] - 0s 29ms/step - loss: 0.0915 - accuracy: 0.9714 - val_loss: 0.0761 - val_accuracy: 0.9778\n",
      "Epoch 26/30\n",
      "4/4 [==============================] - 0s 30ms/step - loss: 0.0816 - accuracy: 0.9619 - val_loss: 0.0615 - val_accuracy: 1.0000\n",
      "Epoch 27/30\n",
      "4/4 [==============================] - 0s 30ms/step - loss: 0.0892 - accuracy: 0.9714 - val_loss: 0.0593 - val_accuracy: 1.0000\n",
      "Epoch 28/30\n",
      "4/4 [==============================] - 0s 29ms/step - loss: 0.0916 - accuracy: 0.9810 - val_loss: 0.0821 - val_accuracy: 0.9556\n",
      "Epoch 29/30\n",
      "4/4 [==============================] - 0s 23ms/step - loss: 0.1086 - accuracy: 0.9524 - val_loss: 0.1052 - val_accuracy: 0.9333\n",
      "Epoch 30/30\n",
      "4/4 [==============================] - 0s 34ms/step - loss: 0.1211 - accuracy: 0.9333 - val_loss: 0.0574 - val_accuracy: 0.9778\n"
     ]
    }
   ],
   "source": [
    "history = model.fit(X_train, y_train, epochs=30, validation_data=(X_test, y_test), verbose=1)"
   ]
  },
  {
   "cell_type": "code",
   "execution_count": 22,
   "id": "b3b9c98e",
   "metadata": {},
   "outputs": [
    {
     "name": "stdout",
     "output_type": "stream",
     "text": [
      "2/2 [==============================] - 0s 0s/step - loss: 0.0574 - accuracy: 0.9778\n"
     ]
    },
    {
     "data": {
      "text/plain": [
       "[0.05741189792752266, 0.9777777791023254]"
      ]
     },
     "execution_count": 22,
     "metadata": {},
     "output_type": "execute_result"
    }
   ],
   "source": [
    "model.evaluate(X_test, y_test)"
   ]
  },
  {
   "cell_type": "code",
   "execution_count": 23,
   "id": "70a14abd",
   "metadata": {},
   "outputs": [
    {
     "data": {
      "image/png": "[encoded data removed]",
      "text/plain": [
       "<Figure size 1000x600 with 1 Axes>"
      ]
     },
     "metadata": {},
     "output_type": "display_data"
    }
   ],
   "source": [
    "pd.DataFrame(history.history).plot(figsize=(10,6))\n",
    "plt.grid(True)\n",
    "plt.gca().set_ylim(0, 1)\n",
    "plt.show()"
   ]
  },
  {
   "cell_type": "code",
   "execution_count": 21,
   "id": "0f35181e",
   "metadata": {},
   "outputs": [
    {
     "name": "stdout",
     "output_type": "stream",
     "text": [
      "1/1 [==============================] - 0s 107ms/step\n",
      "Actual data : [[1. 0. 0.]\n",
      " [1. 0. 0.]\n",
      " [0. 1. 0.]]\n",
      "0\n",
      "0\n",
      "1\n"
     ]
    }
   ],
   "source": [
    "new_data, y_actual = X_test[:3], y_test[:3]\n",
    "\n",
    "y_proba = model.predict(new_data)\n",
    "\n",
    "print(f\"Actual data : {y_actual}\")\n",
    "\n",
    "for pred in y_proba:\n",
    "    print(np.argmax(pred))"
   ]
  }
 ],
 "metadata": {
  "kernelspec": {
   "display_name": "Python 3 (ipykernel)",
   "language": "python",
   "name": "python3"
  },
  "language_info": {
   "codemirror_mode": {
    "name": "ipython",
    "version": 3
   },
   "file_extension": ".py",
   "mimetype": "text/x-python",
   "name": "python",
   "nbconvert_exporter": "python",
   "pygments_lexer": "ipython3",
   "version": "3.10.5"
  }
 },
 "nbformat": 4,
 "nbformat_minor": 5
}
